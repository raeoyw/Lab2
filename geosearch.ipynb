{
  "cells": [
    {
      "cell_type": "code",
      "execution_count": 1,
      "metadata": {
        "id": "EtnaSlH-wplB"
      },
      "outputs": [],
      "source": [
        "# created on Dec 24, 2020\n",
        "# modified on April 12, 2022\n",
        "# @author:          Bo Zhao\n",
        "# @email:           zhaobo@uw.edu\n",
        "# @website:         https://hgis.uw.edu\n",
        "# @organization:    Department of Geography, University of Washington, Seattle\n",
        "# @description:     Search geo-tagged tweets within the U.S. This script is modified from https://github.com/shawn-terryah/Twitter_Geolocation"
      ]
    },
    {
      "cell_type": "code",
      "execution_count": 3,
      "metadata": {
        "id": "f-bMdKMawxnQ",
        "outputId": "395d8384-9375-45ad-dbaa-c4dbc9db8f64",
        "colab": {
          "base_uri": "https://localhost:8080/"
        }
      },
      "outputs": [
        {
          "output_type": "stream",
          "name": "stdout",
          "text": [
            "Mounted at /gdrive\n"
          ]
        }
      ],
      "source": [
        "import tweepy, json, time\n",
        "import pandas as pd\n",
        "from google.colab import files\n",
        "# Create data on to Google Drive\n",
        "from google.colab import drive\n",
        "# Mount your Drive to the Colab VM.\n",
        "drive.mount('/gdrive')"
      ]
    },
    {
      "cell_type": "code",
      "execution_count": 4,
      "metadata": {
        "id": "dEyPts-ZwplE"
      },
      "outputs": [],
      "source": [
        "class StreamListener(tweepy.StreamListener):\n",
        "    \"\"\"tweepy.StreamListener is a class provided by tweepy used to access\n",
        "    the Twitter Streaming API to collect tweets in real-time.\n",
        "    \"\"\"\n",
        "\n",
        "    def __init__(self, time_limit=60, file=\"\"):\n",
        "        \"\"\"class initialization\"\"\"\n",
        "        self.start_time = time.time()\n",
        "        self.limit = time_limit\n",
        "        self.result = []\n",
        "        self.f = file\n",
        "        super(StreamListener, self).__init__()\n",
        "\n",
        "    def on_data(self, data):\n",
        "        \"\"\"This is called when data are streamed in.\"\"\"\n",
        "        if (time.time() - self.start_time) < self.limit:\n",
        "            datajson = json.loads(data)\n",
        "            # print(datajson, \"\\n\")\n",
        "            if 'id' not in datajson.keys():\n",
        "                time.sleep(10)\n",
        "            else:\n",
        "                id = datajson['id']\n",
        "                username = datajson['user']['screen_name']\n",
        "                created_at = datajson['created_at']\n",
        "                text = datajson['text'].strip().replace(\"\\n\", \"\")\n",
        "\n",
        "                # process the geo-tags\n",
        "                if datajson['coordinates'] == None:\n",
        "                    try:\n",
        "                        bbox = datajson['place']['bounding_box']['coordinates'][0]\n",
        "                        lng = (bbox[0][0] + bbox[2][0]) / 2.0\n",
        "                        lat = (bbox[0][1] + bbox[1][1]) / 2.0\n",
        "                    except:\n",
        "                        lat = 0\n",
        "                        lng = 0\n",
        "                else:\n",
        "                    lng = datajson['coordinates']['coordinates'][0]\n",
        "                    lat = datajson['coordinates']['coordinates'][1]\n",
        "\n",
        "                if lat != 0:\n",
        "                    row = {\n",
        "                        'id': id,\n",
        "                        'username': username,\n",
        "                        'created_at': created_at,\n",
        "                        'lng': lng,\n",
        "                        'lat': lat,\n",
        "                        'text': text\n",
        "                    }\n",
        "                    print(row)\n",
        "                    self.result.append(row)\n",
        "                else:\n",
        "                    pass\n",
        "        else:\n",
        "            df = pd.DataFrame(self.result)\n",
        "            df.to_csv(self.f, index=False)\n",
        "            # download the csv to your local computer\n",
        "            files.download(self.f)\n",
        "            print(\"the csv has been downloaded to your local computer. The program has been completed successfully.\")\n",
        "            return False"
      ]
    },
    {
      "cell_type": "code",
      "execution_count": 8,
      "metadata": {
        "id": "5Xzyo_OiwplG",
        "colab": {
          "base_uri": "https://localhost:8080/",
          "height": 876
        },
        "outputId": "47c0ca4d-9cd9-4654-8f65-07d4b4bc1c94"
      },
      "outputs": [
        {
          "output_type": "stream",
          "name": "stdout",
          "text": [
            "{'id': 1524535463813554176, 'username': 'Jay_Hoffa_Flee', 'created_at': 'Wed May 11 23:42:33 +0000 2022', 'lng': -73.9487755, 'lat': 40.655138, 'text': 'Fresh clean watered Blackberries and Strawberries chilling'}\n",
            "{'id': 1524535465864581121, 'username': 'Aissathebeergod', 'created_at': 'Wed May 11 23:42:34 +0000 2022', 'lng': -73.8311875, 'lat': 40.6708795, 'text': 'Sometimes I want you but most times I want nothing to do with you'}\n",
            "{'id': 1524535480280395776, 'username': 'famousboyfriend', 'created_at': 'Wed May 11 23:42:37 +0000 2022', 'lng': -73.9487755, 'lat': 40.655138, 'text': 'mister fraud'}\n",
            "{'id': 1524535482020999169, 'username': 'je_mclaughlin', 'created_at': 'Wed May 11 23:42:38 +0000 2022', 'lng': -74.7243235, 'lat': 40.073040500000005, 'text': '@mschlapp Poor @mercedesschlapp'}\n",
            "{'id': 1524535487217778688, 'username': 'GerardAraud', 'created_at': 'Wed May 11 23:42:39 +0000 2022', 'lng': -73.9685415, 'lat': 40.780709, 'text': '@AntonJo39260714 Oh my God? Really ?'}\n",
            "{'id': 1524535488304099333, 'username': 'Podia2Dromedary', 'created_at': 'Wed May 11 23:42:39 +0000 2022', 'lng': -73.9685415, 'lat': 40.780709, 'text': '@Zebop Manchin, Collins, Murkowski'}\n",
            "{'id': 1524535488895455234, 'username': 'heysaiii', 'created_at': 'Wed May 11 23:42:39 +0000 2022', 'lng': -73.9487755, 'lat': 40.655138, 'text': 'changing your mind is not the same as quitting'}\n",
            "{'id': 1524535490069811200, 'username': 'awpz', 'created_at': 'Wed May 11 23:42:39 +0000 2022', 'lng': -73.9685415, 'lat': 40.780709, 'text': '@jacksonisaacson Jail'}\n",
            "{'id': 1524535511381127168, 'username': 'Saint___', 'created_at': 'Wed May 11 23:42:45 +0000 2022', 'lng': -73.9487755, 'lat': 40.655138, 'text': '@mixxedfellow this yo twin lol 😂 https://t.co/cLmk1DujYx'}\n",
            "{'id': 1524535513637691394, 'username': 'tHEE_StAGE', 'created_at': 'Wed May 11 23:42:45 +0000 2022', 'lng': -73.8494415, 'lat': 40.8503475, 'text': 'K https://t.co/7FHBtPNJVd'}\n",
            "{'id': 1524535518817619968, 'username': 'Monsterfreax', 'created_at': 'Wed May 11 23:42:46 +0000 2022', 'lng': -73.9685415, 'lat': 40.780709, 'text': 'Neverita'}\n",
            "{'id': 1524535522886049793, 'username': 'losingmyego', 'created_at': 'Wed May 11 23:42:47 +0000 2022', 'lng': -73.9487755, 'lat': 40.655138, 'text': 'Perpetually 45 minutes late. Guaranteed.'}\n",
            "{'id': 1524535530087927808, 'username': 'ashrafquraishi', 'created_at': 'Wed May 11 23:42:49 +0000 2022', 'lng': -73.8311875, 'lat': 40.6708795, 'text': '#توہین_مسجد_نبوی_نامنظور'}\n",
            "{'id': 1524535532566503424, 'username': 'Reported_NYC', 'created_at': 'Wed May 11 23:42:50 +0000 2022', 'lng': -73.9753721, 'lat': 40.7773215, 'text': 'CADILLAC Escalade ESV driver JBF2045 parked illegally near 125 Central Park West on May 11. This is in Manhattan Co… https://t.co/RYhobZSgyD'}\n",
            "{'id': 1524535535863279617, 'username': 'THIAGAOAGUIAR', 'created_at': 'Wed May 11 23:42:50 +0000 2022', 'lng': -74.020494, 'lat': 40.768929, 'text': 'Beth Faria , Reginaldo Faria e Thiago fariaaaaaaaaa com certeza 🥳'}\n",
            "{'id': 1524535537385705473, 'username': 'CuliDon', 'created_at': 'Wed May 11 23:42:51 +0000 2022', 'lng': -156.4759415, 'lat': 20.8749245, 'text': '@arvgls https://t.co/a7yFAPYPBj'}\n",
            "{'id': 1524535537905938432, 'username': 'brianahh_', 'created_at': 'Wed May 11 23:42:51 +0000 2022', 'lng': -74.184848, 'lat': 40.734494, 'text': '@_nisssy mykenzie over here talking to me about a baby &amp; she like “you know who I’m talking about. Kevin baby.. rem… https://t.co/0xg0XCk2NE'}\n",
            "{'id': 1524535541877903365, 'username': 'slbu_04', 'created_at': 'Wed May 11 23:42:52 +0000 2022', 'lng': -74.19652450000001, 'lat': 40.662479, 'text': 'Yo dizque dándole tiempo porque estaba finalizando semestre y tenía mucho estrés y el pensando en mandarme a la mierda ªªªª 🤓.'}\n",
            "{'id': 1524535541898878976, 'username': 'becfeast', 'created_at': 'Wed May 11 23:42:52 +0000 2022', 'lng': -73.9685415, 'lat': 40.780709, 'text': '@acat_13 It’s only 395$ from Paco Rabanne…. Buying it'}\n",
            "{'id': 1524535546785280001, 'username': 'sree', 'created_at': 'Wed May 11 23:42:53 +0000 2022', 'lng': -73.9685415, 'lat': 40.780709, 'text': '@marksluckie More than OK! What’s the occasion?'}\n",
            "{'id': 1524535548928401409, 'username': 'tmj_AK_transp', 'created_at': 'Wed May 11 23:42:54 +0000 2022', 'lng': -149.9002778, 'lat': 61.2180556, 'text': \"Organically Driven to Succeed? WE WANT YOU! Charlie's Produce is now hiring a Class B Delivery Driver in #Anchorage… https://t.co/2aPm5ja9Si\"}\n",
            "{'id': 1524535566091665411, 'username': 'javierabegazo', 'created_at': 'Wed May 11 23:42:58 +0000 2022', 'lng': -73.9487755, 'lat': 40.655138, 'text': '@HelenAngel @rim_aj “Polarizing issues” like these really expose the ways in which organizations are not in fact united at all.'}\n",
            "{'id': 1524535570768220160, 'username': 'juaneureaq', 'created_at': 'Wed May 11 23:42:59 +0000 2022', 'lng': -73.8311875, 'lat': 40.6708795, 'text': '@DLaraF Esa es una vieja periclitada. #Venezuela'}\n",
            "{'id': 1524535573691740160, 'username': 'sumimasorry_', 'created_at': 'Wed May 11 23:42:59 +0000 2022', 'lng': -73.9685415, 'lat': 40.780709, 'text': 'any anime that takes place in hs has this hallway…bc it’s in japan…bc that’s what schools look like…'}\n",
            "{'id': 1524535576778743811, 'username': 'kellyjean512', 'created_at': 'Wed May 11 23:43:00 +0000 2022', 'lng': -74.0180395, 'lat': 40.9329625, 'text': 'At least they are finally shooting #nyr'}\n",
            "{'id': 1524535580364840965, 'username': 'ttaylorrr_', 'created_at': 'Wed May 11 23:43:01 +0000 2022', 'lng': -73.9685415, 'lat': 40.780709, 'text': 'lord have mercy on my soul'}\n",
            "{'id': 1524535587193204736, 'username': 'freshprnceofatx', 'created_at': 'Wed May 11 23:43:03 +0000 2022', 'lng': -74.1030275, 'lat': 40.81686, 'text': '@Iridescent_Rose Y’all still got fofofo’s?! 🧐'}\n",
            "{'id': 1524535599558021128, 'username': 'megan4animals', 'created_at': 'Wed May 11 23:43:06 +0000 2022', 'lng': -75.77004099999999, 'lat': 42.746617, 'text': \"love this dude so much 🐷 Wilbur resides at a private animal sanctuary in upstate NY. if you'd like to support them… https://t.co/n7170quOAk\"}\n",
            "{'id': 1524535605165703170, 'username': 'rahilla', 'created_at': 'Wed May 11 23:43:07 +0000 2022', 'lng': -73.9685415, 'lat': 40.780709, 'text': '@yobsyobsyobs @NinjaTVFILM @Zaptio @RTFKT @takashipom On his birthday!'}\n",
            "{'id': 1524535612249935873, 'username': 'letmehoswayyou', 'created_at': 'Wed May 11 23:43:09 +0000 2022', 'lng': -73.8494415, 'lat': 40.8503475, 'text': '@pearlemoji LMFAOOOOOOOOOO 💀💀💀'}\n",
            "{'id': 1524535622702333952, 'username': 'pseibs', 'created_at': 'Wed May 11 23:43:11 +0000 2022', 'lng': -73.8311875, 'lat': 40.6708795, 'text': 'at a lesbian meet up I was speaking to a girl about Harry Potter JKR and she said \"I love JKR\" and I said \"JKR is a… https://t.co/IFr1tr2553'}\n",
            "{'id': 1524535625076162560, 'username': 'SeanDowlingAD', 'created_at': 'Wed May 11 23:43:12 +0000 2022', 'lng': -74.7243235, 'lat': 40.073040500000005, 'text': '#WeCantPlayWithoutThem'}\n",
            "{'id': 1524535627080949763, 'username': 'BullpenBetty', 'created_at': 'Wed May 11 23:43:12 +0000 2022', 'lng': -73.9685415, 'lat': 40.780709, 'text': 'Action over at the Mets game 5-3 in the 1st!'}\n",
            "{'id': 1524535630356692994, 'username': 'PetrovichBilly', 'created_at': 'Wed May 11 23:43:13 +0000 2022', 'lng': -73.86085700000001, 'lat': 40.944567500000005, 'text': '@Flower2Day And I agree with them,thats why there are no selfies of me on here I hate📸,&amp;📱 with a passion'}\n",
            "{'id': 1524535638590173184, 'username': 'jamescounihan1', 'created_at': 'Wed May 11 23:43:15 +0000 2022', 'lng': -73.9685415, 'lat': 40.780709, 'text': '@Q_E_D_avid @NYPDnews @BrooklynDA Yes, we should crush the gun companies and end the main problems right at the source.'}\n",
            "{'id': 1524535638963466243, 'username': 'manunitedRD10', 'created_at': 'Wed May 11 23:43:15 +0000 2022', 'lng': -73.9685415, 'lat': 40.780709, 'text': 'HOLY CRAP THEY DID IT #TheWho #nyr https://t.co/pCYcsaNTjn'}\n",
            "{'id': 1524535641853370368, 'username': 'mgms_15', 'created_at': 'Wed May 11 23:43:16 +0000 2022', 'lng': -73.9685415, 'lat': 40.780709, 'text': '@Heartbreakhass The thing about shadows is, if you move a little, the sun will shine on you again. \\U0001faf6🏼 don’t give up… https://t.co/CG7Kcyy8EZ'}\n",
            "{'id': 1524535644462141441, 'username': 'PatAndriola', 'created_at': 'Wed May 11 23:43:16 +0000 2022', 'lng': -75.77004099999999, 'lat': 42.746617, 'text': '@LewsOnFirst I think the response should be more forceful and less “welp just vote for Dems more.”'}\n",
            "{'id': 1524535659679125506, 'username': 'elaine_chanel', 'created_at': 'Wed May 11 23:43:20 +0000 2022', 'lng': -73.8494415, 'lat': 40.8503475, 'text': '@Kiarah_ @Slimm_els https://t.co/BlAE8TACP4'}\n",
            "{'id': 1524535663961460736, 'username': 'RabbiKolakowski', 'created_at': 'Wed May 11 23:43:21 +0000 2022', 'lng': -75.77004099999999, 'lat': 42.746617, 'text': \"@HotMessConserv2 @zypldot Biden is on Putin's side.  As long as we are not energy independent, we are funding Russi… https://t.co/m7C4saqVGY\"}\n",
            "{'id': 1524535665865670656, 'username': 'trdf53', 'created_at': 'Wed May 11 23:43:21 +0000 2022', 'lng': -73.9487755, 'lat': 40.655138, 'text': '@jesseb888 @genopets I think you need an adress in another state to open an account'}\n",
            "{'id': 1524535669380591618, 'username': 'theguycornernyc', 'created_at': 'Wed May 11 23:43:22 +0000 2022', 'lng': -73.8311875, 'lat': 40.6708795, 'text': '@MetsAvenue https://t.co/bNC9jE0jHF'}\n",
            "{'id': 1524535682743558144, 'username': 'DCHomos', 'created_at': 'Wed May 11 23:43:25 +0000 2022', 'lng': -74.184848, 'lat': 40.734494, 'text': '@RMK613 Why not'}\n",
            "{'id': 1524535684488441856, 'username': 'irmisssima', 'created_at': 'Wed May 11 23:43:26 +0000 2022', 'lng': -73.9685415, 'lat': 40.780709, 'text': '@marenaltman @NinjaCryptoCoin for what is worth'}\n",
            "{'id': 1524535691505553408, 'username': 'bcarrnjsports1', 'created_at': 'Wed May 11 23:43:28 +0000 2022', 'lng': -73.993189, 'lat': 40.945262, 'text': '#SpreadTheWord#TackleDepression #TagAFriend@RobertMaynes2 @desalvocrew @NJScom @NorthEFootball @rayteodora1'}\n",
            "{'id': 1524535693334269952, 'username': 'SoupInNYC27', 'created_at': 'Wed May 11 23:43:28 +0000 2022', 'lng': -73.8311875, 'lat': 40.6708795, 'text': 'NYCFC have been finding all sorts of space with runs from deep in between the Rochester wingback and outside center… https://t.co/SPE4CUjhHx'}\n"
          ]
        },
        {
          "output_type": "display_data",
          "data": {
            "text/plain": [
              "<IPython.core.display.Javascript object>"
            ],
            "application/javascript": [
              "\n",
              "    async function download(id, filename, size) {\n",
              "      if (!google.colab.kernel.accessAllowed) {\n",
              "        return;\n",
              "      }\n",
              "      const div = document.createElement('div');\n",
              "      const label = document.createElement('label');\n",
              "      label.textContent = `Downloading \"${filename}\": `;\n",
              "      div.appendChild(label);\n",
              "      const progress = document.createElement('progress');\n",
              "      progress.max = size;\n",
              "      div.appendChild(progress);\n",
              "      document.body.appendChild(div);\n",
              "\n",
              "      const buffers = [];\n",
              "      let downloaded = 0;\n",
              "\n",
              "      const channel = await google.colab.kernel.comms.open(id);\n",
              "      // Send a message to notify the kernel that we're ready.\n",
              "      channel.send({})\n",
              "\n",
              "      for await (const message of channel.messages) {\n",
              "        // Send a message to notify the kernel that we're ready.\n",
              "        channel.send({})\n",
              "        if (message.buffers) {\n",
              "          for (const buffer of message.buffers) {\n",
              "            buffers.push(buffer);\n",
              "            downloaded += buffer.byteLength;\n",
              "            progress.value = downloaded;\n",
              "          }\n",
              "        }\n",
              "      }\n",
              "      const blob = new Blob(buffers, {type: 'application/binary'});\n",
              "      const a = document.createElement('a');\n",
              "      a.href = window.URL.createObjectURL(blob);\n",
              "      a.download = filename;\n",
              "      div.appendChild(a);\n",
              "      a.click();\n",
              "      div.remove();\n",
              "    }\n",
              "  "
            ]
          },
          "metadata": {}
        },
        {
          "output_type": "display_data",
          "data": {
            "text/plain": [
              "<IPython.core.display.Javascript object>"
            ],
            "application/javascript": [
              "download(\"download_1245ffde-d298-4ec3-b75c-64e7e0ccee32\", \"geotweets.csv\", 7363)"
            ]
          },
          "metadata": {}
        },
        {
          "output_type": "stream",
          "name": "stdout",
          "text": [
            "the csv has been downloaded to your local computer. The program has been completed successfully.\n"
          ]
        }
      ],
      "source": [
        "if __name__ == \"__main__\":\n",
        "    # These are provided to you through the Twitter API after you create a account\n",
        "    # register a Twitter App to get the keys and access tokens.\n",
        "    output_file = '/gdrive/MyDrive/geotweets.csv'\n",
        "\n",
        "    # Apply for your own Twitter API keys at https://developer.twitter.com/en/apply-for-access\n",
        "    consumer_key = \"StI0nAmwRZyaqxHnMGZk6oIeE\"\n",
        "    consumer_secret = \"QVrZ8kmOZA1E9lWqeExBxe75JbOSywBXoVlLjvW0rAvsszuFj4\"\n",
        "    access_token = \"1514294618019426305-FhmJEyF5xlXxxmmjtySzgE2Xx6Nu4y\"\n",
        "    access_token_secret = \"swn4hw2x0qhoKL9inOL4XkPv2Vh3aAyRRuHQLYnWFiGJg\"\n",
        "\n",
        "    myauth = tweepy.OAuthHandler(consumer_key, consumer_secret)\n",
        "    myauth.set_access_token(access_token, access_token_secret)\n",
        "\n",
        "    # LOCATIONS are the longitude, latitude coordinate corners for a box that restricts the\n",
        "    # geographic area from which you will stream tweets. The first two define the southwest\n",
        "    # corner of the box and the second two define the northeast corner of the box.\n",
        "    LOCATIONS = [-74.1687, 40.5722, -73.8062, 40.9467,  # Contiguous US\n",
        "                 -164.639405, 58.806859, -144.152365, 71.76871,  # Alaska\n",
        "                 -160.161542, 18.776344, -154.641396, 22.878623]  # Hawaii\n",
        "\n",
        "    stream_listener = StreamListener(time_limit=60, file=output_file)\n",
        "    stream = tweepy.Stream(auth=myauth, listener=stream_listener)\n",
        "    stream.filter(locations=LOCATIONS)"
      ]
    }
  ],
  "metadata": {
    "colab": {
      "collapsed_sections": [],
      "name": "02_geosearch.ipynb",
      "provenance": []
    },
    "kernelspec": {
      "display_name": "Python 3",
      "language": "python",
      "name": "python3"
    },
    "language_info": {
      "codemirror_mode": {
        "name": "ipython",
        "version": 3
      },
      "file_extension": ".py",
      "mimetype": "text/x-python",
      "name": "python",
      "nbconvert_exporter": "python",
      "pygments_lexer": "ipython3",
      "version": "3.7.4"
    }
  },
  "nbformat": 4,
  "nbformat_minor": 0
}